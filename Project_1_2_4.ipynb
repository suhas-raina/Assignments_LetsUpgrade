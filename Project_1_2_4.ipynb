{
  "nbformat": 4,
  "nbformat_minor": 0,
  "metadata": {
    "colab": {
      "name": "Assignment4_Suhas.ipynb",
      "provenance": [],
      "collapsed_sections": []
    },
    "kernelspec": {
      "name": "python3",
      "display_name": "Python 3"
    }
  },
  "cells": [
    {
      "cell_type": "markdown",
      "metadata": {
        "id": "GU55oFmYQ4qr"
      },
      "source": [
        "# Project 1\r\n",
        "**Cryptography App**"
      ]
    },
    {
      "cell_type": "code",
      "metadata": {
        "id": "UYR_HHAa9N2b"
      },
      "source": [
        "import onetimepad"
      ],
      "execution_count": null,
      "outputs": []
    },
    {
      "cell_type": "code",
      "metadata": {
        "id": "Fz_7h1rj9xP5"
      },
      "source": [
        "from tkinter import *\r\n",
        "#import tkinter\r\n",
        "\r\n",
        "root = Tk()\r\n",
        "root.title(\"Chryptography App\")\r\n",
        "\r\n",
        "def encryptMessage():\r\n",
        "    a = var.get()\r\n",
        "    ct = onetimepad.encrypt(a,\"letsupgrade\")\r\n",
        "    print(\"Working\",ct) \r\n",
        "    \r\n",
        "    e2.delete(0,END)\r\n",
        "    e2.insert(END,ct)\r\n",
        "\r\n",
        "def dycrptMessage():\r\n",
        "    a = var2.get()\r\n",
        "    ct = onetimepad.decrypt(a,\"letsupgrade\")\r\n",
        "    print(\"Working\",ct) \r\n",
        "    \r\n",
        "    e4.delete(0,END)\r\n",
        "    e4.insert(END,ct)\r\n",
        "    \r\n",
        "    \r\n",
        "    \r\n",
        "l1 = Label(root,text=\"Plain Text\")\r\n",
        "l1.grid(row=0,column=0)\r\n",
        "\r\n",
        "\r\n",
        "l3 = Label(root,text=\"Encypted Text\")\r\n",
        "l3.grid(row=0,column=2)\r\n",
        "\r\n",
        "var= StringVar()\r\n",
        "e1 = Entry(root,textvariable=var)\r\n",
        "e1.grid(row=0,column=1)\r\n",
        "\r\n",
        "var2= StringVar()\r\n",
        "e3 = Entry(root,textvariable=var2)\r\n",
        "e3.grid(row=0,column=3)\r\n",
        "\r\n",
        "\r\n",
        "l2 = Label(root,text=\"Encypted Text\")\r\n",
        "l2.grid(row=1,column=0)\r\n",
        "\r\n",
        "l4 = Label(root,text=\"Plain Text\")\r\n",
        "l4.grid(row=1,column=2)\r\n",
        "\r\n",
        "e2 = Entry(root)\r\n",
        "e2.grid(row=1,column=1)\r\n",
        "\r\n",
        "e4 = Entry(root)\r\n",
        "e4.grid(row=1,column=3)\r\n",
        "\r\n",
        "b1 = Button(root,text=\"Encyption\",bg=\"blue\",fg=\"Red\",command=encryptMessage)\r\n",
        "b1.grid(row=2,column=1)\r\n",
        "\r\n",
        "b2 = Button(root,text=\"Dycrption\",bg=\"blue\",fg=\"Red\",command=dycrptMessage)\r\n",
        "b2.grid(row=2,column=3)\r\n",
        "\r\n",
        "root.mainloop()"
      ],
      "execution_count": null,
      "outputs": []
    },
    {
      "cell_type": "markdown",
      "metadata": {
        "id": "A7AcrudP90j9"
      },
      "source": [
        "# Project 2 \r\n",
        "**Guess the Movies Name**"
      ]
    },
    {
      "cell_type": "code",
      "metadata": {
        "id": "GsbG7VYu9023"
      },
      "source": [
        "#Firebase connectivity\r\n",
        "import firebase_admin\r\n",
        "from firebase_admin import credentials\r\n",
        "\r\n",
        "cred = credentials.Certificate(\"my-project.json\")\r\n",
        "firebase_admin.initialize_app(cred)\r\n",
        "print(\"Working\")"
      ],
      "execution_count": null,
      "outputs": []
    },
    {
      "cell_type": "code",
      "metadata": {
        "id": "aub0YOVuG4S9"
      },
      "source": [
        "from firebase_admin import firestore"
      ],
      "execution_count": null,
      "outputs": []
    },
    {
      "cell_type": "code",
      "metadata": {
        "id": "LzWxGExvG59x"
      },
      "source": [
        "db = firestore.client()\r\n",
        "doc_ref = db.collection(\"movies\").document(\"Bollywood\")\r\n",
        "\r\n",
        "data = {\"Name\":[\"war\",\"kgf\",\"3-idiot\",\"family-man\",\"dangal\"],\r\n",
        "       \"collection\":[400,500,200,100,600]}\r\n",
        "doc_ref.set(data)\r\n",
        "print(\"done\")"
      ],
      "execution_count": null,
      "outputs": []
    },
    {
      "cell_type": "markdown",
      "metadata": {
        "id": "p3GGrrcRHasc"
      },
      "source": [
        "**Retrive the dataset from the firebase**"
      ]
    },
    {
      "cell_type": "code",
      "metadata": {
        "id": "pOLN7VJyHdL9"
      },
      "source": [
        "db = firestore.client() \r\n",
        "docs = db.collection(\"movies\").stream() \r\n",
        "for d in docs: \r\n",
        "    #print(d.to_dict()) \r\n",
        "    database = d.to_dict()"
      ],
      "execution_count": null,
      "outputs": []
    },
    {
      "cell_type": "code",
      "metadata": {
        "id": "nWEJD9ukHmW7"
      },
      "source": [
        "d = database[\"Name\"] "
      ],
      "execution_count": null,
      "outputs": []
    },
    {
      "cell_type": "code",
      "metadata": {
        "id": "_aZ5KAu0HP0Y"
      },
      "source": [
        "import random\r\n",
        "movie = database[\"Name\"]\r\n",
        "player = input(\"Write your Name: \")\r\n",
        "print(\"Guess the character: \")\r\n",
        "print(\"You have 10 chance to get the movie name: \")\r\n",
        "print(\"Best of luck!\",player)\r\n",
        "\r\n",
        "\r\n",
        "count = 10\r\n",
        "\r\n",
        "geuss= \"\"\r\n",
        "\r\n",
        "word = random.choice(movie) #war\r\n",
        "\r\n",
        "while count>0:\r\n",
        "    fail = 0\r\n",
        "    for char in word:\r\n",
        "        if char in geuss:\r\n",
        "            print(char)\r\n",
        "        else:\r\n",
        "            print(\"_\")\r\n",
        "            fail+=1\r\n",
        "            \r\n",
        "            \r\n",
        "    if fail==0:\r\n",
        "        print(\"Congratulation you won!!!\")\r\n",
        "        print(\"Movie Name was:\",word)\r\n",
        "        break\r\n",
        "        \r\n",
        "    g = input(\"Enter your character: \")\r\n",
        "    geuss = geuss+g\r\n",
        "    \r\n",
        "    if g not in word:\r\n",
        "        count = count-1\r\n",
        "        print(\"Wrong Answer:(\")\r\n",
        "\r\n",
        "        print(\"You have \",count,\"more geusses\")\r\n"
      ],
      "execution_count": null,
      "outputs": []
    },
    {
      "cell_type": "markdown",
      "metadata": {
        "id": "mKxfDqO8JbVA"
      },
      "source": [
        "# Project 4\r\n",
        "**Sending mail using Python**"
      ]
    },
    {
      "cell_type": "code",
      "metadata": {
        "id": "_BMCxtC1Jbj3"
      },
      "source": [
        "import smtplib \r\n",
        "\r\n",
        "# create SMTP session \r\n",
        "s = smtplib.SMTP('smtp.gmail.com', 587) \r\n",
        "\r\n",
        "# begin TLS for security \r\n",
        "s.starttls() \r\n",
        "\r\n",
        "# Authenticate\r\n",
        "s.login(\"sender_email_id\", \"sender_email_id_password\") \r\n",
        "\r\n",
        "# message to be sent \r\n",
        "message = \"Message to send\"\r\n",
        "\r\n",
        "# send the email \r\n",
        "s.sendmail(\"sender_email_id\", \"receiver_email_id\", message) \r\n",
        "\r\n",
        "# ending the session \r\n",
        "s.quit() \r\n"
      ],
      "execution_count": null,
      "outputs": []
    }
  ]
}