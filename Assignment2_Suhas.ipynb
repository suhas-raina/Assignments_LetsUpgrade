{
  "nbformat": 4,
  "nbformat_minor": 0,
  "metadata": {
    "colab": {
      "name": "Assignment2_Suhas.ipynb",
      "provenance": [],
      "collapsed_sections": []
    },
    "kernelspec": {
      "name": "python3",
      "display_name": "Python 3"
    }
  },
  "cells": [
    {
      "cell_type": "markdown",
      "metadata": {
        "id": "qNIHiTuoJ776"
      },
      "source": [
        "Q1. Write a Python program to remove duplicates from a list"
      ]
    },
    {
      "cell_type": "code",
      "metadata": {
        "id": "EeqR6MKnJwqJ",
        "colab": {
          "base_uri": "https://localhost:8080/"
        },
        "outputId": "6c6d1ba2-e902-4e49-a740-c817f7dd5185"
      },
      "source": [
        "l1 = [2,2,3,4,5,5,7,7,6,1,2] #sample list\r\n",
        "r1 = set(l1) #set in-built function\r\n",
        "print(list(r1))"
      ],
      "execution_count": null,
      "outputs": [
        {
          "output_type": "stream",
          "text": [
            "[1, 2, 3, 4, 5, 6, 7]\n"
          ],
          "name": "stdout"
        }
      ]
    },
    {
      "cell_type": "markdown",
      "metadata": {
        "id": "OJFj0_9J6mwg"
      },
      "source": [
        "Q2. Write a Python program to get the difference between the two lists"
      ]
    },
    {
      "cell_type": "code",
      "metadata": {
        "colab": {
          "base_uri": "https://localhost:8080/"
        },
        "id": "ogAkoWgG6mUU",
        "outputId": "0e2b7872-fe20-4cae-b9aa-3ebebe968a47"
      },
      "source": [
        "list1 = [2, 4, 6, 8, 10]\r\n",
        "list2=[3, 4, 5, 7, 6, 8]\r\n",
        "diff = list(set(list1) - set(list2)) + list(set(list2) - set(list1))\r\n",
        "print(diff)"
      ],
      "execution_count": null,
      "outputs": [
        {
          "output_type": "stream",
          "text": [
            "[2, 10, 3, 5, 7]\n"
          ],
          "name": "stdout"
        }
      ]
    },
    {
      "cell_type": "markdown",
      "metadata": {
        "id": "LtWQExLYBhQ-"
      },
      "source": [
        "Q3. Write a Python program to get the frequency of the elements in a list"
      ]
    },
    {
      "cell_type": "code",
      "metadata": {
        "colab": {
          "base_uri": "https://localhost:8080/"
        },
        "id": "nbNAM2pQBgr7",
        "outputId": "22e25c61-764f-4b67-d0f4-00f76d8846f8"
      },
      "source": [
        "import collections\r\n",
        "li1 = [1,2,2,2,3,3,3,3,4,4]\r\n",
        "print(\"List : \",li1)\r\n",
        "freq = collections.Counter(li1)\r\n",
        "print(\"Frequency of the elements in the List : \",freq)"
      ],
      "execution_count": null,
      "outputs": [
        {
          "output_type": "stream",
          "text": [
            "List :  [1, 2, 2, 2, 3, 3, 3, 3, 4, 4]\n",
            "Frequency of the elements in the List :  Counter({3: 4, 2: 3, 4: 2, 1: 1})\n"
          ],
          "name": "stdout"
        }
      ]
    },
    {
      "cell_type": "markdown",
      "metadata": {
        "id": "67CXvvdNE_CV"
      },
      "source": [
        "Q4. Write a Python program to compute the similarity between two lists"
      ]
    },
    {
      "cell_type": "code",
      "metadata": {
        "colab": {
          "base_uri": "https://localhost:8080/"
        },
        "id": "nO1Dq4u9E_c9",
        "outputId": "ee7578d1-d2c6-404f-ac28-8532f454e550"
      },
      "source": [
        "from collections import Counter\r\n",
        "Color1 = [\"red\", \"orange\", \"green\", \"blue\", \"white\"]\r\n",
        "Color2 = [\"black\", \"yellow\", \"green\", \"blue\"]\r\n",
        "counter_1 = Counter(Color1)\r\n",
        "counter_2 = Counter(Color2)\r\n",
        "print(\"Color1-Color2 : \",list(counter_1 - counter_2))\r\n",
        "print(\"Color2-Color1 : \",list(counter_2 - counter_1))\r\n"
      ],
      "execution_count": null,
      "outputs": [
        {
          "output_type": "stream",
          "text": [
            "Color1-Color2 :  ['red', 'orange', 'white']\n",
            "Color2-Color1 :  ['black', 'yellow']\n"
          ],
          "name": "stdout"
        }
      ]
    },
    {
      "cell_type": "markdown",
      "metadata": {
        "id": "8hh6rSdOH7g6"
      },
      "source": [
        "Q5. Write a Python function that takes a list of words and returns the length of the longest one"
      ]
    },
    {
      "cell_type": "code",
      "metadata": {
        "colab": {
          "base_uri": "https://localhost:8080/"
        },
        "id": "kuEewIEsH73j",
        "outputId": "e411195e-e713-42be-86e4-898629aff709"
      },
      "source": [
        "a = [\"Hello\", \"Hi\", \"Bye\"] \r\n",
        "# length in the list \r\n",
        "def longestLength(a): \r\n",
        "\tmax_1 = len(a[0]) \r\n",
        "\ttemp = a[0] \r\n",
        "\r\n",
        "\t# for loop to move in the list \r\n",
        "\tfor i in a: \r\n",
        "\t\tif(len(i) > max_1): \r\n",
        "\r\n",
        "\t\t\tmax_1 = len(i) \r\n",
        "\t\t\ttemp = i \r\n",
        "\r\n",
        "\tprint(\"The word with the longest length is:\", temp, \r\n",
        "\t\t\" and length is \", max_1) \r\n",
        " \r\n",
        "longestLength(a) \r\n"
      ],
      "execution_count": null,
      "outputs": [
        {
          "output_type": "stream",
          "text": [
            "The word with the longest length is: Hello  and length is  5\n"
          ],
          "name": "stdout"
        }
      ]
    },
    {
      "cell_type": "markdown",
      "metadata": {
        "id": "HVI3aKfAQ2q3"
      },
      "source": [
        "Q6. Write a Python program to count the occurrences of each word in a given sentence"
      ]
    },
    {
      "cell_type": "code",
      "metadata": {
        "colab": {
          "base_uri": "https://localhost:8080/"
        },
        "id": "EjRkjBBcQ3FU",
        "outputId": "ea887065-c4e0-40ae-fc56-6fa54c4a4a37"
      },
      "source": [
        "def word_count(str):\r\n",
        "    counts = dict()\r\n",
        "    words = str.split()\r\n",
        "\r\n",
        "    for word in words:\r\n",
        "        if word in counts:\r\n",
        "            counts[word] += 1\r\n",
        "        else:\r\n",
        "            counts[word] = 1\r\n",
        "\r\n",
        "    return counts\r\n",
        "\r\n",
        "sentence = input(\"Enter a sentence : \")\r\n",
        "print(word_count(sentence))\r\n"
      ],
      "execution_count": null,
      "outputs": [
        {
          "output_type": "stream",
          "text": [
            "Enter a sentence : Python is a dynamically typed language.\n",
            "{'Python': 1, 'is': 1, 'a': 1, 'dynamically': 1, 'typed': 1, 'language.': 1}\n"
          ],
          "name": "stdout"
        }
      ]
    },
    {
      "cell_type": "markdown",
      "metadata": {
        "id": "i52lItHiThmo"
      },
      "source": [
        "Q7. Write a Python program to count and display the vowels of a given text"
      ]
    },
    {
      "cell_type": "code",
      "metadata": {
        "colab": {
          "base_uri": "https://localhost:8080/"
        },
        "id": "wESGsgUXTh1t",
        "outputId": "3e90bda5-78d2-4218-befb-cdb01d12b289"
      },
      "source": [
        "def vowel(text):\r\n",
        "    vowels = \"aeiuoAEIOU\"\r\n",
        "    print(\"The count of vowels is : \", len([letter for letter in text if letter in vowels]))\r\n",
        "    print(\"The vowels are :\", [letter for letter in text if letter in vowels])\r\n",
        "\r\n",
        "itext = input(\"Enter text : \")\r\n",
        "vowel(itext)"
      ],
      "execution_count": null,
      "outputs": [
        {
          "output_type": "stream",
          "text": [
            "Enter text : Assignment\n",
            "The count of vowels is :  3\n",
            "The vowels are : ['A', 'i', 'e']\n"
          ],
          "name": "stdout"
        }
      ]
    },
    {
      "cell_type": "markdown",
      "metadata": {
        "id": "HJqmSrh9VuUY"
      },
      "source": [
        "Q8. Write a Python script to generate and print a dictionary that contains a number (between 1 and n) in the form (x, x*x)"
      ]
    },
    {
      "cell_type": "code",
      "metadata": {
        "colab": {
          "base_uri": "https://localhost:8080/"
        },
        "id": "0tO9CYs4Vutv",
        "outputId": "9af99df8-1b6a-43c2-935d-f4b330d33efb"
      },
      "source": [
        "n = int(input(\"Input a number : \"))\r\n",
        "d1 = dict()\r\n",
        "for x in range(1,n+1):\r\n",
        "    d1[x]=x*x\r\n",
        "print(\"The dictionary in form (x,x*x) is :\" , d1) "
      ],
      "execution_count": null,
      "outputs": [
        {
          "output_type": "stream",
          "text": [
            "Input a number : 10\n",
            "The dictionary in form (x,x*x) is : {1: 1, 2: 4, 3: 9, 4: 16, 5: 25, 6: 36, 7: 49, 8: 64, 9: 81, 10: 100}\n"
          ],
          "name": "stdout"
        }
      ]
    },
    {
      "cell_type": "markdown",
      "metadata": {
        "id": "oJLybPo5Wvkj"
      },
      "source": [
        "Q9. Write a Python program to combine two dictionary adding values for common keys"
      ]
    },
    {
      "cell_type": "code",
      "metadata": {
        "colab": {
          "base_uri": "https://localhost:8080/"
        },
        "id": "Vk3ROG58ZIu7",
        "outputId": "50582421-e6b8-4b79-c07b-64f8f9f433f0"
      },
      "source": [
        "from collections import Counter\r\n",
        "d1 = {'a': 100, 'b': 200, 'c':300}\r\n",
        "d2 = {'a': 300, 'b': 200, 'd':400}\r\n",
        "res = Counter(d1) + Counter(d2)\r\n",
        "print(\"The combination of dictonaries is : \",res)"
      ],
      "execution_count": null,
      "outputs": [
        {
          "output_type": "stream",
          "text": [
            "The combination of dictonaries is :  Counter({'a': 400, 'b': 400, 'd': 400, 'c': 300})\n"
          ],
          "name": "stdout"
        }
      ]
    },
    {
      "cell_type": "markdown",
      "metadata": {
        "id": "z0wyKKlsXEdH"
      },
      "source": [
        "Q10. Write a Python program to print all unique values in a dictionary"
      ]
    },
    {
      "cell_type": "code",
      "metadata": {
        "colab": {
          "base_uri": "https://localhost:8080/"
        },
        "id": "YArntiIhXDyq",
        "outputId": "67a46870-44f8-4e86-e535-652e1fc4ef35"
      },
      "source": [
        "D = [{\"V\":\"S001\"}, {\"V\": \"S002\"}, {\"VI\": \"S001\"}, {\"VI\": \"S005\"}, {\"VII\":\"S005\"},{\"V\":\"S009\"},{\"VIII\":\"S007\"}]\r\n",
        "print(\"Dictionary is :  \",D)\r\n",
        "unique_value = set(val for dic in D for val in dic.values())\r\n",
        "print(\"Unique Values: \",unique_value)"
      ],
      "execution_count": null,
      "outputs": [
        {
          "output_type": "stream",
          "text": [
            "Dictionary is :   [{'V': 'S001'}, {'V': 'S002'}, {'VI': 'S001'}, {'VI': 'S005'}, {'VII': 'S005'}, {'V': 'S009'}, {'VIII': 'S007'}]\n",
            "Unique Values:  {'S007', 'S002', 'S001', 'S005', 'S009'}\n"
          ],
          "name": "stdout"
        }
      ]
    }
  ]
}