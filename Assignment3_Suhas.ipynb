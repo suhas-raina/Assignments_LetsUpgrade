{
  "nbformat": 4,
  "nbformat_minor": 0,
  "metadata": {
    "colab": {
      "name": "Assignment3_Suhas.ipynb",
      "provenance": [],
      "collapsed_sections": []
    },
    "kernelspec": {
      "name": "python3",
      "display_name": "Python 3"
    }
  },
  "cells": [
    {
      "cell_type": "markdown",
      "metadata": {
        "id": "uLyKAAT5e0bM"
      },
      "source": [
        "Q1. Write a Python function to find the Max of three numbers"
      ]
    },
    {
      "cell_type": "code",
      "metadata": {
        "colab": {
          "base_uri": "https://localhost:8080/"
        },
        "id": "JwlVdN-Sd4y5",
        "outputId": "db9f1c38-60f1-4a25-d30b-ef225464f8ee"
      },
      "source": [
        "num1 = int(input(\"Enter 1st number: \"))\r\n",
        "num2 = int(input(\"Enter 2nd number: \"))\r\n",
        "num3 = int(input(\"Enter 3rd number: \"))\r\n",
        "def max_num(num1,num2,num3):\r\n",
        "    if (num1 >= num2) and (num1 >= num3): \r\n",
        "        max_num = num1 \r\n",
        "    elif (num2 >= num1) and (num2 >= num3): \r\n",
        "        max_num = num2 \r\n",
        "    else: \r\n",
        "        max_num = num3\r\n",
        "    return max_num\r\n",
        "\r\n",
        "print(\"Max of three numbers is : \", max_num(num1,num2,num3))\r\n",
        "  "
      ],
      "execution_count": 20,
      "outputs": [
        {
          "output_type": "stream",
          "text": [
            "Enter 1st number: 12\n",
            "Enter 2nd number: 14\n",
            "Enter 3rd number: 19\n",
            "Max of three numbers is :  19\n"
          ],
          "name": "stdout"
        }
      ]
    },
    {
      "cell_type": "markdown",
      "metadata": {
        "id": "k2g4BedUfAZP"
      },
      "source": [
        "Q2. Write a Python function that checks whether a passed string is palindrome or not"
      ]
    },
    {
      "cell_type": "code",
      "metadata": {
        "colab": {
          "base_uri": "https://localhost:8080/"
        },
        "id": "TiWlgiehfApY",
        "outputId": "3dbff0ff-8551-439f-b3b5-82ea857ecd3f"
      },
      "source": [
        "s = input(\"Enter String : \")\r\n",
        "\r\n",
        "def palindrome_check(s):\r\n",
        "  if(s == s[::-1]):\r\n",
        "   print(\"The string is a Palindrome as reverse is :\", s[::-1])\r\n",
        "  else:\r\n",
        "   print(\"The string is not a Palindrome as reverse is :\",s[::-1])\r\n",
        "\r\n",
        "palindrome_check(s)"
      ],
      "execution_count": 49,
      "outputs": [
        {
          "output_type": "stream",
          "text": [
            "Enter String : malayalam\n",
            "The string is a Palindrome as reverse is : malayalam\n"
          ],
          "name": "stdout"
        }
      ]
    },
    {
      "cell_type": "markdown",
      "metadata": {
        "id": "rNr3ofG1fGdc"
      },
      "source": [
        "Q3. Write a Python function that accepts a string and calculate the number of uppercase letters and\r\n",
        "lowercase letters"
      ]
    },
    {
      "cell_type": "code",
      "metadata": {
        "colab": {
          "base_uri": "https://localhost:8080/"
        },
        "id": "XIaVCrZ7fGq1",
        "outputId": "b380f51e-5c28-4fe6-c23b-b7bfc4765de1"
      },
      "source": [
        "str1 = input(\"Enter String : \")\r\n",
        "uc=0\r\n",
        "lc=0\r\n",
        "def up_low(str1):\r\n",
        "  global lc,uc\r\n",
        "  for i in str1: \r\n",
        "    if (i>='a'and i<='z'): \r\n",
        "        lc+=1                 #count lower case             \r\n",
        "    if (i>='A'and i<='Z'):       \r\n",
        "        uc+=1                 #count upper case\r\n",
        "\r\n",
        "up_low(str1)\r\n",
        "print(\"Number of upper case letters are : \",uc) \r\n",
        "print(\"Number of lower case letters are : \",lc) "
      ],
      "execution_count": 67,
      "outputs": [
        {
          "output_type": "stream",
          "text": [
            "Enter String : HellO\n",
            "Number of upper case letters are :  2\n",
            "Number of lower case letters are :  3\n"
          ],
          "name": "stdout"
        }
      ]
    },
    {
      "cell_type": "markdown",
      "metadata": {
        "id": "s2IcM9fkfSCH"
      },
      "source": [
        "Q4. Write a Python function to sum all the numbers in a list"
      ]
    },
    {
      "cell_type": "code",
      "metadata": {
        "colab": {
          "base_uri": "https://localhost:8080/"
        },
        "id": "HZgyHDwOfUWU",
        "outputId": "f7e958ff-7207-47bf-bac4-47e14141e7f7"
      },
      "source": [
        "list_num = [1, 2, 3, 4, 5]\r\n",
        "def sum(list_num):\r\n",
        "    list_sum = 0\r\n",
        "    for i in list_num:\r\n",
        "        list_sum += i\r\n",
        "    return list_sum\r\n",
        "\r\n",
        "print(\"List sum is :\",sum(list_num))"
      ],
      "execution_count": 79,
      "outputs": [
        {
          "output_type": "stream",
          "text": [
            "List sum is : 15\n"
          ],
          "name": "stdout"
        }
      ]
    },
    {
      "cell_type": "markdown",
      "metadata": {
        "id": "T25FZFMG-3F-"
      },
      "source": [
        "Q5. Write a Python function to multiply all the numbers in a list"
      ]
    },
    {
      "cell_type": "code",
      "metadata": {
        "colab": {
          "base_uri": "https://localhost:8080/"
        },
        "id": "pYse9OJ6-3WL",
        "outputId": "5b235f47-763e-4266-d1aa-db9b6b6aaee8"
      },
      "source": [
        "list_num = [2, 4, 6, 8]\r\n",
        "def multiply(list_num):  \r\n",
        "    product = 1\r\n",
        "    for i in list_num:\r\n",
        "        product *= i \r\n",
        "    return product\r\n",
        "\r\n",
        "print(\"Product of list is :\",multiply(list_num))"
      ],
      "execution_count": 78,
      "outputs": [
        {
          "output_type": "stream",
          "text": [
            "Product of list is : 384\n"
          ],
          "name": "stdout"
        }
      ]
    },
    {
      "cell_type": "markdown",
      "metadata": {
        "id": "KC1B5tw5FXXC"
      },
      "source": [
        "Q6. Write a Python function that takes a list and returns a new list with unique elements of the first list"
      ]
    },
    {
      "cell_type": "code",
      "metadata": {
        "colab": {
          "base_uri": "https://localhost:8080/"
        },
        "id": "QZlVrVMQFXnK",
        "outputId": "8fbfc2db-cad6-402f-ec18-c23e82dd5a54"
      },
      "source": [
        "def unique_list(l1):\r\n",
        "  rl = []              #result list : rl\r\n",
        "  for i in l1:\r\n",
        "    if i not in rl:\r\n",
        "      rl.append(i)\r\n",
        "  return rl\r\n",
        "\r\n",
        "print(unique_list([1,1,1,2,2,3,4,4,5,5,6,6,6,6])) "
      ],
      "execution_count": 81,
      "outputs": [
        {
          "output_type": "stream",
          "text": [
            "[1, 2, 3, 4, 5, 6]\n"
          ],
          "name": "stdout"
        }
      ]
    }
  ]
}