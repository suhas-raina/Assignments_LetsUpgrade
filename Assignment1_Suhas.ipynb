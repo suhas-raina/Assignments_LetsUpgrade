{
  "nbformat": 4,
  "nbformat_minor": 0,
  "metadata": {
    "colab": {
      "name": "Assignment1_Suhas.ipynb",
      "provenance": [],
      "collapsed_sections": []
    },
    "kernelspec": {
      "name": "python3",
      "display_name": "Python 3"
    }
  },
  "cells": [
    {
      "cell_type": "markdown",
      "metadata": {
        "id": "_0Zz5ZPs0ANf"
      },
      "source": [
        "**Find the value of the following questions, Where x=5**\r\n",
        "* (2x+5/x^2+5x+6)\r\n",
        "* (x^2+5x+6/2x+5)\r\n",
        "* (2x-3)(x-9)\r\n"
      ]
    },
    {
      "cell_type": "code",
      "metadata": {
        "colab": {
          "base_uri": "https://localhost:8080/"
        },
        "id": "_MiijQdYz3l3",
        "outputId": "27f71b3e-b0c2-4bfc-ae65-40fd412021d0"
      },
      "source": [
        "#Input the value of x\r\n",
        "x = int(input(\"Enter value of x : \"))\r\n",
        "#Compute the following results\r\n",
        "res1 = (2*x+5)/(x**2+5*x+6)\r\n",
        "res2 = (x**2+5*x+6)/(2*x+5)\r\n",
        "res3 = (2*x-3)*(x+9)\r\n",
        "print(\"Result-1 is : \",res1)\r\n",
        "print(\"Result-2 is : \",res2)\r\n",
        "print(\"Result-3 is : \",res3)"
      ],
      "execution_count": 9,
      "outputs": [
        {
          "output_type": "stream",
          "text": [
            "Enter value of x : 5\n",
            "Result-1 is :  0.26785714285714285\n",
            "Result-2 is :  3.7333333333333334\n",
            "Result-3 is :  98\n"
          ],
          "name": "stdout"
        }
      ]
    },
    {
      "cell_type": "markdown",
      "metadata": {
        "id": "tHW8Jgso3ZnC"
      },
      "source": [
        "**Create a username and password login file using nested while loop**"
      ]
    },
    {
      "cell_type": "code",
      "metadata": {
        "colab": {
          "base_uri": "https://localhost:8080/"
        },
        "id": "pyR2CYsQ3sIP",
        "outputId": "749f776a-0721-458a-8072-663fc9ed4708"
      },
      "source": [
        "#input username\r\n",
        "username=input(\"Username : \")\r\n",
        "#initialise password tries to 1\r\n",
        "count=1\r\n",
        "#while loop to keep tries in check\r\n",
        "while count<=5:\r\n",
        "    password=input(\"Password : \")\r\n",
        "    #if loop to compare password entered\r\n",
        "    if password==\"ind\" or password==\"IND\":\r\n",
        "        print(\"Login Successful\")\r\n",
        "        break\r\n",
        "    else:\r\n",
        "        print(\"Password Incorrect, Try Number : \"g,count)\r\n",
        "        count+=1\r\n",
        "else:\r\n",
        "  print(\"No. of password tries exceeded : User Account is Locked\")\r\n"
      ],
      "execution_count": 32,
      "outputs": [
        {
          "output_type": "stream",
          "text": [
            "Username : rty\n",
            "Password : dfg\n",
            "Password Incorrect, Try Number :  1\n",
            "Password : fgg\n",
            "Password Incorrect, Try Number :  2\n",
            "Password : gh\n",
            "Password Incorrect, Try Number :  3\n",
            "Password : ffg\n",
            "Password Incorrect, Try Number :  4\n",
            "Password : ddf\n",
            "Password Incorrect, Try Number :  5\n",
            "No. of password tries exceeded : User Account is Locked\n"
          ],
          "name": "stdout"
        }
      ]
    }
  ]
}